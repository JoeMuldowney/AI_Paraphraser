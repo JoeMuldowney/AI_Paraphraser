{
 "cells": [
  {
   "cell_type": "code",
   "execution_count": 1,
   "id": "8c9efbd6-e31e-45af-9d2f-640a703b2411",
   "metadata": {},
   "outputs": [],
   "source": [
    "# import pandas and re \n",
    "import pandas as pd\n",
    "import re"
   ]
  },
  {
   "cell_type": "code",
   "execution_count": 2,
   "id": "cde16f8c-1fbd-4fea-8983-edad59d7bfbf",
   "metadata": {},
   "outputs": [],
   "source": [
    "df = pd.read_csv('datasets/train.csv')"
   ]
  },
  {
   "cell_type": "code",
   "execution_count": 3,
   "id": "510ac7ab-996b-45d2-a846-4988a8bef2e3",
   "metadata": {},
   "outputs": [],
   "source": [
    "# make copy to work with\n",
    "dup_df = df.copy()"
   ]
  },
  {
   "cell_type": "code",
   "execution_count": 5,
   "id": "5c4d93d1-2378-48a3-952c-b960423b2e82",
   "metadata": {},
   "outputs": [],
   "source": [
    "# remove by new reporter name\n",
    "# example: 'By . Daily Mail Reporter .'\n",
    "remove_news_stamp = r'\\s*By\\s+\\.[^.]*?\\.[^.]*?\\.\\s*'\n",
    "\n",
    "# remove string of published and update stamps\n",
    "# example: '14:11 EST, 25 October 2013 . | . UPDATED: . 15:36 EST, 25 October 2013 .'\n",
    "remove_update_stamp = r'\\d{2}:\\d{2}\\s+[A-Z]{3},\\s+\\d{1,2}\\s+[A-Za-z]+\\s+\\d{4}\\s+\\.\\s*\\|\\s*\\.\\s+UPDATED:\\s+\\.\\s*\\d{2}:\\d{2}\\s+[A-Z]{3},\\s+\\d{1,2}\\s+[A-Za-z]+\\s+\\d{4}\\s+\\.\\s*'\n",
    "\n",
    "# remove last update date and time string\n",
    "# example: Last updated at 3:31 PM on 19th July 2011 . \n",
    "remove_last_updated = r'Last updated.*?\\.'\n",
    "\n",
    "# remove parentesis and anything inside them\n",
    "# example: (CNN), (left), (right)\n",
    "remove_parenthesis = r'\\(.*?\\)'\n",
    "\n",
    "# remove '\\xa0' in strings\n",
    "# example: 'pictured is\\xa0Lake Placid Lodge' or 'the\\xa0Echo Valley Ranch & Spa, Canada offers ultimate serenity'\n",
    "remove_ax0 = r'\\xa0'\n",
    "\n",
    "# remove cases of double dash in the text\n",
    "remove_double_dash = r'\\--\\s*'\n",
    "\n",
    "# remove cases of a single dash in the text surrounded by whitespcae\n",
    "remove_dash = r'\\s+\\-\\s*'\n",
    "\n",
    "# remove brakets and anything inside them\n",
    "remove_brackets= r'\\s+\\[.*?\\]\\s*'\n",
    "\n",
    "# remove random periods marks\n",
    "# example: 'It includes . carved Buddha statues, has its own yoga hall, swimming pool, hot tub . and ‘chill-out’ \n",
    "# area with hammocks – ideal for a Prime\\xa0 Minister who . reputedly has a taste for ‘chillaxing’.'\n",
    "remove_junk_period = r'\\s+\\.\\s+'\n",
    "\n",
    "# remove details for videos\n",
    "# example: Scroll down for video .\n",
    "remove_video = r'\\s+Scroll down for video \\.'"
   ]
  },
  {
   "cell_type": "code",
   "execution_count": 6,
   "id": "bfb0adde-2b5b-4cab-82e2-6f3f2c48ec8e",
   "metadata": {},
   "outputs": [],
   "source": [
    "dup_df['article'] = dup_df['article'].apply(lambda x: re.sub(remove_news_stamp, '', x))"
   ]
  },
  {
   "cell_type": "code",
   "execution_count": 7,
   "id": "0cde46a7-194f-4998-9a42-438a417dda1c",
   "metadata": {},
   "outputs": [],
   "source": [
    "dup_df['article'] = dup_df['article'].apply(lambda x: re.sub(remove_update_stamp, '', x))"
   ]
  },
  {
   "cell_type": "code",
   "execution_count": 8,
   "id": "ed0fa133-6855-41b0-9f34-6fa7d3b650be",
   "metadata": {},
   "outputs": [],
   "source": [
    "dup_df['article'] = dup_df['article'].apply(lambda x: re.sub(remove_last_updated, '', x))"
   ]
  },
  {
   "cell_type": "code",
   "execution_count": 9,
   "id": "8e2c26fa-c056-4b64-8b44-a7e504877648",
   "metadata": {},
   "outputs": [],
   "source": [
    "dup_df['article'] = dup_df['article'].apply(lambda x: re.sub(remove_parenthesis, '', x))"
   ]
  },
  {
   "cell_type": "code",
   "execution_count": 10,
   "id": "bdb82ccf-78b5-4d27-a8e5-826882e664d9",
   "metadata": {},
   "outputs": [],
   "source": [
    "dup_df['article'] = dup_df['article'].apply(lambda x: re.sub(remove_double_dash, '', x))"
   ]
  },
  {
   "cell_type": "code",
   "execution_count": 11,
   "id": "4d91000a-f225-4b12-98d4-96595ae19234",
   "metadata": {},
   "outputs": [],
   "source": [
    "dup_df['article'] = dup_df['article'].apply(lambda x: re.sub(remove_dash, ' ', x))"
   ]
  },
  {
   "cell_type": "code",
   "execution_count": 12,
   "id": "e50cc7a0-9e96-4441-9719-815e3def3064",
   "metadata": {},
   "outputs": [],
   "source": [
    "dup_df['article'] = dup_df['article'].apply(lambda x: re.sub(remove_brackets, '', x))"
   ]
  },
  {
   "cell_type": "code",
   "execution_count": 13,
   "id": "9338b57b-2c23-4f7d-916c-a92b8c6f4f42",
   "metadata": {},
   "outputs": [],
   "source": [
    "dup_df['article'] = dup_df['article'].apply(lambda x: re.sub(remove_ax0, ' ', x))"
   ]
  },
  {
   "cell_type": "code",
   "execution_count": 14,
   "id": "4257c803-7b74-40af-a245-fc6aa4959902",
   "metadata": {},
   "outputs": [],
   "source": [
    "dup_df['article'] = dup_df['article'].apply(lambda x: re.sub(remove_video, '', x))"
   ]
  },
  {
   "cell_type": "code",
   "execution_count": 16,
   "id": "a8882132-9181-4b2f-840f-f5f9644ac6a5",
   "metadata": {},
   "outputs": [],
   "source": [
    "dup_df = dup_df[~dup_df['article'].str.contains(r' \\. ', regex=True)]"
   ]
  },
  {
   "cell_type": "code",
   "execution_count": 17,
   "id": "70915266-23d8-450b-ac78-7cfb477d3df7",
   "metadata": {},
   "outputs": [
    {
     "data": {
      "text/plain": [
       "44553"
      ]
     },
     "execution_count": 17,
     "metadata": {},
     "output_type": "execute_result"
    }
   ],
   "source": [
    "len(dup_df)"
   ]
  },
  {
   "cell_type": "code",
   "execution_count": 31,
   "id": "2c35d0d7-06d1-4133-ace0-9e6ca902e065",
   "metadata": {},
   "outputs": [],
   "source": [
    "dup_df.reset_index(drop=True, inplace=True)\n"
   ]
  },
  {
   "cell_type": "code",
   "execution_count": 19,
   "id": "49944143-a99c-4665-a1c8-b97c93029dc7",
   "metadata": {},
   "outputs": [],
   "source": [
    "from transformers import BartTokenizer\n",
    "tokenizer = BartTokenizer.from_pretrained(\"facebook/bart-base\")"
   ]
  },
  {
   "cell_type": "code",
   "execution_count": 20,
   "id": "2c15208d-84f7-414b-ace9-e05564716452",
   "metadata": {},
   "outputs": [],
   "source": [
    "# Function to tokenize and count tokens\n",
    "def count_tokens(text):\n",
    "    tokens = tokenizer.encode(text)\n",
    "    return len(tokens)\n"
   ]
  },
  {
   "cell_type": "code",
   "execution_count": 21,
   "id": "e8be85b1-20d9-4528-9157-b07ffbe07e05",
   "metadata": {},
   "outputs": [],
   "source": [
    "# Add a new column for the token count in the DataFrame and apply function to it\n",
    "dup_df['token_count'] = dup_df['article'].apply(count_tokens)"
   ]
  },
  {
   "cell_type": "code",
   "execution_count": 22,
   "id": "d9432efa-e852-42e2-9a74-56f3c27075b2",
   "metadata": {},
   "outputs": [],
   "source": [
    "under_1024_tokens = dup_df[dup_df['token_count'] <= 1024]"
   ]
  },
  {
   "cell_type": "code",
   "execution_count": 23,
   "id": "4e7ee41b-8ebe-4648-9fd7-ef31b504cb54",
   "metadata": {},
   "outputs": [
    {
     "data": {
      "text/plain": [
       "37880"
      ]
     },
     "execution_count": 23,
     "metadata": {},
     "output_type": "execute_result"
    }
   ],
   "source": [
    "len(under_1024_tokens)"
   ]
  },
  {
   "cell_type": "code",
   "execution_count": 33,
   "id": "3fa1a6d3-3f58-4129-b7ff-99ab84246202",
   "metadata": {},
   "outputs": [],
   "source": [
    "# reset the index\n",
    "under_1024_tokens.reset_index(drop=True, inplace=True)"
   ]
  },
  {
   "cell_type": "code",
   "execution_count": 41,
   "id": "ebcbdee0-0adf-4a31-9e10-0e7e4420726a",
   "metadata": {},
   "outputs": [
    {
     "data": {
      "text/html": [
       "<div>\n",
       "<style scoped>\n",
       "    .dataframe tbody tr th:only-of-type {\n",
       "        vertical-align: middle;\n",
       "    }\n",
       "\n",
       "    .dataframe tbody tr th {\n",
       "        vertical-align: top;\n",
       "    }\n",
       "\n",
       "    .dataframe thead th {\n",
       "        text-align: right;\n",
       "    }\n",
       "</style>\n",
       "<table border=\"1\" class=\"dataframe\">\n",
       "  <thead>\n",
       "    <tr style=\"text-align: right;\">\n",
       "      <th></th>\n",
       "      <th>id</th>\n",
       "      <th>article</th>\n",
       "      <th>highlights</th>\n",
       "      <th>token_count</th>\n",
       "    </tr>\n",
       "  </thead>\n",
       "  <tbody>\n",
       "    <tr>\n",
       "      <th>0</th>\n",
       "      <td>0002095e55fcbd3a2f366d9bf92a95433dc305ef</td>\n",
       "      <td>Ralph Mata was an internal affairs lieutenant...</td>\n",
       "      <td>Criminal complaint: Cop used his role to help ...</td>\n",
       "      <td>461</td>\n",
       "    </tr>\n",
       "    <tr>\n",
       "      <th>1</th>\n",
       "      <td>0002c17436637c4fe1837c935c04de47adb18e9a</td>\n",
       "      <td>With a breezy sweep of his pen President Vlad...</td>\n",
       "      <td>Nina dos Santos says Europe must be ready to a...</td>\n",
       "      <td>627</td>\n",
       "    </tr>\n",
       "    <tr>\n",
       "      <th>2</th>\n",
       "      <td>000e009f6b1d954d827c9a550f3f24a5474ee82b</td>\n",
       "      <td>One can hardly read the news these days witho...</td>\n",
       "      <td>U.S. corporations merge with foreign companies...</td>\n",
       "      <td>914</td>\n",
       "    </tr>\n",
       "    <tr>\n",
       "      <th>3</th>\n",
       "      <td>001be24b2db1c04f62386f98997fee725c5fd2fb</td>\n",
       "      <td>Kabul, Afghanistan  China's top security offic...</td>\n",
       "      <td>China's top security official visited Afghanis...</td>\n",
       "      <td>238</td>\n",
       "    </tr>\n",
       "    <tr>\n",
       "      <th>4</th>\n",
       "      <td>001f9c554f1a29169413d0d2f138212a14c6dcf1</td>\n",
       "      <td>A University of Wisconsin senior official res...</td>\n",
       "      <td>John Chadima resigned after the allegations su...</td>\n",
       "      <td>366</td>\n",
       "    </tr>\n",
       "  </tbody>\n",
       "</table>\n",
       "</div>"
      ],
      "text/plain": [
       "                                         id  \\\n",
       "0  0002095e55fcbd3a2f366d9bf92a95433dc305ef   \n",
       "1  0002c17436637c4fe1837c935c04de47adb18e9a   \n",
       "2  000e009f6b1d954d827c9a550f3f24a5474ee82b   \n",
       "3  001be24b2db1c04f62386f98997fee725c5fd2fb   \n",
       "4  001f9c554f1a29169413d0d2f138212a14c6dcf1   \n",
       "\n",
       "                                             article  \\\n",
       "0   Ralph Mata was an internal affairs lieutenant...   \n",
       "1   With a breezy sweep of his pen President Vlad...   \n",
       "2   One can hardly read the news these days witho...   \n",
       "3  Kabul, Afghanistan  China's top security offic...   \n",
       "4   A University of Wisconsin senior official res...   \n",
       "\n",
       "                                          highlights  token_count  \n",
       "0  Criminal complaint: Cop used his role to help ...          461  \n",
       "1  Nina dos Santos says Europe must be ready to a...          627  \n",
       "2  U.S. corporations merge with foreign companies...          914  \n",
       "3  China's top security official visited Afghanis...          238  \n",
       "4  John Chadima resigned after the allegations su...          366  "
      ]
     },
     "execution_count": 41,
     "metadata": {},
     "output_type": "execute_result"
    }
   ],
   "source": [
    "under_1024_tokens.head()"
   ]
  },
  {
   "cell_type": "code",
   "execution_count": 42,
   "id": "b0147c1f-b24e-47d6-b5a8-0b11dcfd4e72",
   "metadata": {},
   "outputs": [],
   "source": [
    "# make a copy to work with for other column\n",
    "highlights_cleaning_df = under_1024_tokens.copy()"
   ]
  },
  {
   "cell_type": "code",
   "execution_count": 162,
   "id": "1db30fb1-1fc0-499d-8e2c-ed5ac306fd5e",
   "metadata": {},
   "outputs": [],
   "source": [
    "### Highlights column ###"
   ]
  },
  {
   "cell_type": "code",
   "execution_count": 44,
   "id": "01d8bfd7-22d0-41f8-b044-2684a369db0d",
   "metadata": {},
   "outputs": [],
   "source": [
    "# drop unused columns\n",
    "highlights_cleaning_df.drop('id', axis=1, inplace=True)"
   ]
  },
  {
   "cell_type": "code",
   "execution_count": 47,
   "id": "9b6bbaf7-73ee-49aa-ab51-f7fe79c5009c",
   "metadata": {},
   "outputs": [],
   "source": [
    "# remove space between end of sentence and the period\n",
    "period_whitespace = r'(?<=\\S)\\s+(?=\\.)'\n",
    "\n",
    "# remove line breaks\n",
    "# example: 'will hurt both sides .\\nTargeting Russia's business'\n",
    "remove_next_line = r'\\n+'\n",
    "\n",
    "# remove NEWS stamps in the highlights\n",
    "# example: 'NEW: Police make an arrest. Authorities say Matthew Flugence...'\n",
    "news_stamp = r'NEW+\\b.*?\\.\\s*'\n",
    "\n",
    "# remove criminal stamps in the highlights\n",
    "# example: Criminal complaint: Cop used his role to help cocaine traffickers . Ralph Mata'\n",
    "criminal_complaint_stamp = r'Criminal complaint+\\b.*?\\.\\s*'"
   ]
  },
  {
   "cell_type": "code",
   "execution_count": 48,
   "id": "88096891-b68c-4031-99ce-3ebb1ccef110",
   "metadata": {},
   "outputs": [],
   "source": [
    "highlights_cleaning_df['highlights'] = highlights_cleaning_df['highlights'].apply(lambda x: re.sub(period_whitespace, '', x))"
   ]
  },
  {
   "cell_type": "code",
   "execution_count": 49,
   "id": "859ef597-afb5-444d-bd26-e336a67a1661",
   "metadata": {},
   "outputs": [],
   "source": [
    "highlights_cleaning_df['highlights'] = highlights_cleaning_df['highlights'].apply(lambda x: re.sub(remove_next_line, ' ', x))"
   ]
  },
  {
   "cell_type": "code",
   "execution_count": 51,
   "id": "c4f4bb1e-c6bf-45e3-b2d1-a377daf4580c",
   "metadata": {},
   "outputs": [],
   "source": [
    "highlights_cleaning_df['highlights'] = highlights_cleaning_df['highlights'].apply(lambda x: re.sub(news_stamp, '', x))"
   ]
  },
  {
   "cell_type": "code",
   "execution_count": 52,
   "id": "6482e78c-e64c-4048-a437-7d844f4d425d",
   "metadata": {},
   "outputs": [],
   "source": [
    "highlights_cleaning_df['highlights'] = highlights_cleaning_df['highlights'].apply(lambda x: re.sub(criminal_complaint_stamp, '', x))"
   ]
  },
  {
   "cell_type": "code",
   "execution_count": 53,
   "id": "f1d6293c-0ee1-452e-9ea1-eb652ee4858e",
   "metadata": {},
   "outputs": [],
   "source": [
    "# remove any leading white space\n",
    "highlights_cleaning_df['highlights'] = highlights_cleaning_df['highlights'].str.lstrip()\n",
    "highlights_cleaning_df['article'] = highlights_cleaning_df['article'].str.lstrip()"
   ]
  },
  {
   "cell_type": "code",
   "execution_count": null,
   "id": "ae55aca9-3d3b-4202-90a6-8ec4e1e03da7",
   "metadata": {},
   "outputs": [],
   "source": [
    "### Split into traning, validate, and test sets ###"
   ]
  },
  {
   "cell_type": "code",
   "execution_count": 55,
   "id": "e0aa9be4-22f7-4ce8-b881-b9c0795abfd5",
   "metadata": {},
   "outputs": [
    {
     "data": {
      "text/plain": [
       "37880"
      ]
     },
     "execution_count": 55,
     "metadata": {},
     "output_type": "execute_result"
    }
   ],
   "source": [
    "len(highlights_cleaning_df)"
   ]
  },
  {
   "cell_type": "code",
   "execution_count": 57,
   "id": "a23353c0-2bb0-4b96-a9c2-ef852476c6ce",
   "metadata": {},
   "outputs": [],
   "source": [
    "# use 6000 random samples for validation\n",
    "validate_df = highlights_cleaning_df.sample(n=6000, random_state=56)"
   ]
  },
  {
   "cell_type": "code",
   "execution_count": 59,
   "id": "33ad1a98-6487-462e-a3c1-62460599b579",
   "metadata": {},
   "outputs": [],
   "source": [
    "# drop the validation samples from training data\n",
    "highlights_cleaning_df = highlights_cleaning_df.drop(validate_df.index)"
   ]
  },
  {
   "cell_type": "code",
   "execution_count": 63,
   "id": "724c0335-8a79-4424-b0e3-9eba9d26278a",
   "metadata": {},
   "outputs": [],
   "source": [
    "# use 2000 random samples for testingvalidation\n",
    "testing_df = highlights_cleaning_df.sample(n=2000, random_state=56)"
   ]
  },
  {
   "cell_type": "code",
   "execution_count": 64,
   "id": "871b84b5-2434-4fa5-a292-d3724425d220",
   "metadata": {},
   "outputs": [],
   "source": [
    "# drop the testing samples from training data\n",
    "highlights_cleaning_df = highlights_cleaning_df.drop(testing_df.index)"
   ]
  },
  {
   "cell_type": "code",
   "execution_count": 65,
   "id": "d669b035-4828-4d4e-9913-76b2b65e1be7",
   "metadata": {},
   "outputs": [],
   "source": [
    "# reset the indexes\n",
    "highlights_cleaning_df.reset_index(drop=True, inplace=True)\n",
    "testing_df.reset_index(drop=True, inplace=True)\n",
    "validate_df.reset_index(drop=True, inplace=True)"
   ]
  },
  {
   "cell_type": "code",
   "execution_count": null,
   "id": "47744ab4-e3a7-49d0-ab2f-e8ad35a77a5c",
   "metadata": {},
   "outputs": [],
   "source": [
    "# save to cvs files"
   ]
  },
  {
   "cell_type": "code",
   "execution_count": 66,
   "id": "99f96199-c309-4093-b7d1-51de4df8d63f",
   "metadata": {},
   "outputs": [],
   "source": [
    "highlights_cleaning_df.to_csv('training.csv', header=True, index=False)"
   ]
  },
  {
   "cell_type": "code",
   "execution_count": 67,
   "id": "0cfd8041-09b2-4532-acf3-e6ac794cfa26",
   "metadata": {},
   "outputs": [],
   "source": [
    "validate_df.to_csv('validating.csv', header=True, index=False)"
   ]
  },
  {
   "cell_type": "code",
   "execution_count": 68,
   "id": "6fbaf4aa-d4f8-4ef6-91dd-de38af3cd02a",
   "metadata": {},
   "outputs": [],
   "source": [
    "testing_df.to_csv('testing.csv', header=True, index=False)"
   ]
  }
 ],
 "metadata": {
  "kernelspec": {
   "display_name": "Python 3 (ipykernel)",
   "language": "python",
   "name": "python3"
  },
  "language_info": {
   "codemirror_mode": {
    "name": "ipython",
    "version": 3
   },
   "file_extension": ".py",
   "mimetype": "text/x-python",
   "name": "python",
   "nbconvert_exporter": "python",
   "pygments_lexer": "ipython3",
   "version": "3.13.2"
  }
 },
 "nbformat": 4,
 "nbformat_minor": 5
}
